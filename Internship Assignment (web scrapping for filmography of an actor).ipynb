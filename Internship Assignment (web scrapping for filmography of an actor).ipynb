{
 "cells": [
  {
   "cell_type": "code",
   "execution_count": 1,
   "id": "1e06df6a",
   "metadata": {},
   "outputs": [],
   "source": [
    "from bs4 import BeautifulSoup\n",
    "import requests\n",
    "import pandas as pd"
   ]
  },
  {
   "cell_type": "code",
   "execution_count": 2,
   "id": "3549dd62",
   "metadata": {},
   "outputs": [],
   "source": [
    "def filmography_list(actor_name):\n",
    "    \n",
    "    url=\"https://www.rottentomatoes.com/celebrity/\"\n",
    "    actor_name = actor_name.replace(\" \", \"_\")\n",
    "    target_url = url + actor_name\n",
    "    \n",
    "    response = requests.get(target_url)\n",
    "    \n",
    "    if response.status_code ==200:\n",
    "        soup = BeautifulSoup(response.text, 'html.parser')\n",
    "        movie_table = soup.find_all('div', class_ = 'scroll-x')[0]\n",
    "        #tv_show_table = soup.find_all('div', class_ = 'scroll-x')[1]\n",
    "        \n",
    "        column_header = movie_table.find('thead').find_all('th')\n",
    "        title_column = column_header[2].text.strip()\n",
    "        year_column = column_header[-1].text.strip()\n",
    "        \n",
    "       \n",
    "        table_content = movie_table.find('tbody').find_all('tr')\n",
    "        \n",
    "        title = []\n",
    "        year = []\n",
    "        for rows in table_content:\n",
    "            row = rows.find_all('td')\n",
    "            title.append(row[2].text.strip())\n",
    "            year.append(row[-1].text.strip())\n",
    "            \n",
    "        movie_dataframe = pd.DataFrame({year_column: year, \n",
    "                                        title_column: title})\n",
    "        print(movie_dataframe)\n",
    "        \n",
    "    else:\n",
    "        print('Error, Try again!')    "
   ]
  },
  {
   "cell_type": "code",
   "execution_count": 4,
   "id": "99e08d62",
   "metadata": {},
   "outputs": [
    {
     "name": "stdout",
     "output_type": "stream",
     "text": [
      "Enter any actor name: Leonardo Di Caprio\n",
      "\n",
      "    Year                        Title\n",
      "0   2023   Killers of the Flower Moon\n",
      "1   2023    Titanic: 25th Anniversary\n",
      "2   2023             We Are Guardians\n",
      "3   2021                Don't Look Up\n",
      "4   2021                          Fin\n",
      "..   ...                          ...\n",
      "57  1995       The Quick and the Dead\n",
      "58  1995                Total Eclipse\n",
      "59  1993              This Boy's Life\n",
      "60  1993  What's Eating Gilbert Grape\n",
      "61  1991                   Critters 3\n",
      "\n",
      "[62 rows x 2 columns]\n"
     ]
    }
   ],
   "source": [
    "actor_name = input(\"Enter any actor name: \")\n",
    "print()\n",
    "\n",
    "filmography_list(actor_name)"
   ]
  },
  {
   "cell_type": "code",
   "execution_count": null,
   "id": "f5bea607",
   "metadata": {},
   "outputs": [],
   "source": []
  }
 ],
 "metadata": {
  "kernelspec": {
   "display_name": "Python 3 (ipykernel)",
   "language": "python",
   "name": "python3"
  },
  "language_info": {
   "codemirror_mode": {
    "name": "ipython",
    "version": 3
   },
   "file_extension": ".py",
   "mimetype": "text/x-python",
   "name": "python",
   "nbconvert_exporter": "python",
   "pygments_lexer": "ipython3",
   "version": "3.8.10"
  }
 },
 "nbformat": 4,
 "nbformat_minor": 5
}
